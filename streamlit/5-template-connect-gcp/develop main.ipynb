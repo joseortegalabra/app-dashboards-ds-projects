{
 "cells": [
  {
   "cell_type": "code",
   "execution_count": null,
   "id": "f84c5c02-cecd-4d99-9cd9-1e1941bec34f",
   "metadata": {},
   "outputs": [],
   "source": [
    "import streamlit as st\n",
    "from google.cloud import bigquery\n",
    "import pandas as pd\n",
    "import os\n",
    "from dotenv import load_dotenv"
   ]
  },
  {
   "cell_type": "code",
   "execution_count": null,
   "id": "62d5edc2-714f-41a9-91fa-d6689c1b9a92",
   "metadata": {},
   "outputs": [],
   "source": [
    "# READ ENV VARIABLES - CREDENTIALS TO CONNECT TO BQ\n",
    "load_dotenv()\n",
    "env_var_project_gcp = os.environ.get(\"PROJECT_GCP\", \"\")\n",
    "env_var_path_sa = os.environ.get(\"PATH_SA\", \"\")\n",
    "\n",
    "PROJECT_ID = env_var_project_gcp\n",
    "os.environ['GOOGLE_APPLICATION_CREDENTIALS'] = env_var_path_sa"
   ]
  },
  {
   "cell_type": "code",
   "execution_count": null,
   "id": "5e37a2f9-fdb3-42e5-b701-ea02c78ee0fe",
   "metadata": {},
   "outputs": [],
   "source": [
    "########### read table from bq\n",
    "def get_dataframe_from_bq():\n",
    "    '''\n",
    "    Obtener un dataframe desde una consulta SQL a una tabla de Bigquery\n",
    "    Dataframe que va a ser mostrado en el front de una app web\n",
    "    '''\n",
    "\n",
    "    #query\n",
    "    query_sql = f'''\n",
    "    SELECT * \n",
    "    FROM `{PROJECT_ID}.dataset_for_tests.table_1`\n",
    "    ORDER BY date DESC\n",
    "    '''\n",
    "\n",
    "    # consultar\n",
    "    client = bigquery.Client(project = PROJECT_ID)\n",
    "    df = client.query(query_sql).to_dataframe()\n",
    "\n",
    "    return df"
   ]
  },
  {
   "cell_type": "code",
   "execution_count": null,
   "id": "565dfeef-2ebb-41f9-935d-e86f7a98afb3",
   "metadata": {},
   "outputs": [],
   "source": [
    "# read table bq\n",
    "df_table = get_dataframe_from_bq()"
   ]
  },
  {
   "cell_type": "code",
   "execution_count": null,
   "id": "2dced1b4-f6ae-4cd2-a2de-f19c760a61fb",
   "metadata": {},
   "outputs": [],
   "source": [
    "df_table"
   ]
  },
  {
   "cell_type": "code",
   "execution_count": null,
   "id": "9471469e-6166-4cb8-97a5-850ac32c07aa",
   "metadata": {},
   "outputs": [],
   "source": []
  }
 ],
 "metadata": {
  "kernelspec": {
   "display_name": "Python 3 (ipykernel)",
   "language": "python",
   "name": "python3"
  },
  "language_info": {
   "codemirror_mode": {
    "name": "ipython",
    "version": 3
   },
   "file_extension": ".py",
   "mimetype": "text/x-python",
   "name": "python",
   "nbconvert_exporter": "python",
   "pygments_lexer": "ipython3",
   "version": "3.10.14"
  }
 },
 "nbformat": 4,
 "nbformat_minor": 5
}
