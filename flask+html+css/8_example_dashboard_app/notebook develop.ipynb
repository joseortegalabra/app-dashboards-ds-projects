{
 "cells": [
  {
   "cell_type": "markdown",
   "id": "1eff688c",
   "metadata": {},
   "source": [
    "# notebook desarrollo\n",
    "Notebook que contiene los códigos de desarrollo de la app flask.\n",
    "\n",
    "Esto porque la app se basa en mostrar gráficos de plotly y cuadros de html o plotly para indicar kpis. Todos los valores que se muestran se obtienen desde flask por lo tanto se puede utilizar un notebook para desarrollar el backend de la app (en lugar de utilizar el script app.py) - **SIMPLEMENTE POR COMODIDAD Y FAMILIARIDAD DE TRABAJAR CON NOTEBOOKS EN LUGAR DE SCRIPTS**\n",
    "\n",
    "### FUNCIONAMIENTO APP\n",
    "- Existe en el backend tablas con todos los valores que se tienen que mostrar en el front (tipo firestore) y el backend consulta esos valores y los envia al front html\n",
    "\n",
    "- Se generan las variables con los valores y con los json del gráfico y eso va en app.py en el formato que requiere Flask y desde ahí se envía a html para ser visualizados\n",
    "\n",
    "- Con MAYÚSCULA se definieron las variables que deben ser enviadas al front para mostrarse"
   ]
  },
  {
   "cell_type": "code",
   "execution_count": null,
   "id": "b8719c28",
   "metadata": {},
   "outputs": [],
   "source": [
    "import pandas as pd\n",
    "from google.cloud import bigquery\n",
    "from datetime import datetime\n",
    "import numpy as np\n",
    "import json\n",
    "\n",
    "import plotly.graph_objs as go\n",
    "from plotly.subplots import make_subplots\n",
    "import plotly.express as px\n",
    "import plotly"
   ]
  },
  {
   "cell_type": "code",
   "execution_count": null,
   "id": "9efdb7b5-98a0-42b6-b6f1-aa8ebfe1612d",
   "metadata": {},
   "outputs": [],
   "source": [
    "import os\n",
    "from dotenv import load_dotenv, find_dotenv # package used in jupyter notebook to read the variables in file .env\n",
    "\n",
    "\"\"\" get env variable from .env \"\"\"\n",
    "load_dotenv(find_dotenv())\n",
    "\n",
    "\"\"\" Read env variables \"\"\"\n",
    "env_var_project_gcp = os.environ.get(\"PROJECT_GCP\", \"\")\n",
    "dataset_bq = os.environ.get(\"PROJECT_GCP\", \"\")\n",
    "\n",
    "# SET SERVICE ACCOUNT GCP AND PROJECT\n",
    "PROJECT_ID = env_var_project_gcp\n",
    "DATASET_ID = dataset_bq"
   ]
  },
  {
   "cell_type": "code",
   "execution_count": null,
   "id": "3fb5525d-4f73-4107-925c-75d7c50c88f8",
   "metadata": {},
   "outputs": [],
   "source": []
  },
  {
   "cell_type": "code",
   "execution_count": null,
   "id": "7e000af7",
   "metadata": {},
   "outputs": [],
   "source": []
  },
  {
   "cell_type": "markdown",
   "id": "b9bcf340",
   "metadata": {},
   "source": [
    "### funciones auxiliares consultar bq"
   ]
  },
  {
   "cell_type": "code",
   "execution_count": null,
   "id": "bd5e398a",
   "metadata": {},
   "outputs": [],
   "source": [
    "def GCPQuery2BigQuery(Project,InputQuery):\n",
    "    \"\"\"\n",
    "    Función auxiliar para consultar una tabla de BQ y obtener un dataframe. Utiliza la función \"query_bq_to_dataframe\" donde existe un while infinito para hacer la consulta hasta que se obtenga un dataframe\n",
    "    no vacio (tenga al menos una fila) o hasta que se obtenga un error por timeout en la ejeución del código en una cloud function\n",
    "\n",
    "    Args:\n",
    "        Project (string): proyect de GCP\n",
    "        InputQuery (string): query SQL\n",
    "\n",
    "    Returns:\n",
    "        dataframe: dataframe resultante de la query\n",
    "    \"\"\"\n",
    "\n",
    "    count_consultas_fallidas = 0\n",
    "    delay = 5\n",
    "\n",
    "    # -- do while --\n",
    "    # ---> do: consultar data\n",
    "    df_result = query_bq_to_dataframe(Project, InputQuery)\n",
    "    \n",
    "    # while: mientras data obtenida este vacia, seguir ejecutando consultar data\n",
    "    while df_result.shape[0] == 0:\n",
    "        time.sleep(delay)\n",
    "        df_result = query_bq_to_dataframe(Project, InputQuery)\n",
    "        count_consultas_fallidas += 1\n",
    "\n",
    "    return df_result\n",
    "\n",
    "def query_bq_to_dataframe(Project,InputQuery):\n",
    "    \"\"\"\n",
    "    Ejecutar la query (string) pasada como input y retornar el resultado como un dataframe\n",
    "\n",
    "    Args:\n",
    "        Project (string): projecto de GCP\n",
    "        InputQuery (string): string con la query\n",
    "\n",
    "    Returns:\n",
    "        dataframe: dataframe resultante de la query\n",
    "    \"\"\"\n",
    "    client = bigquery.Client(project = Project)\n",
    "    query_job = client.query(InputQuery)\n",
    "    results = query_job.result()\n",
    "    results = results.to_dataframe()\n",
    "    return results"
   ]
  },
  {
   "cell_type": "markdown",
   "id": "46559777",
   "metadata": {},
   "source": [
    "### funciones auxiliares cálculos"
   ]
  },
  {
   "cell_type": "code",
   "execution_count": null,
   "id": "79c38de5",
   "metadata": {},
   "outputs": [],
   "source": [
    "def get_color_alerta_prediction(alerta_prediction):\n",
    "    \"\"\"\n",
    "    Dado el nivel de alerta de la predicción (bajo, medio, alto) obtener un color para ser mostrado en la app\n",
    "    Mapeo de colores:\n",
    "    - bajo: green\n",
    "    - medio: orange\n",
    "    - alto: red\n",
    "    \"\"\"\n",
    "    if alerta_prediction == \"bajo\":\n",
    "        return \"green\"\n",
    "    if alerta_prediction == \"medio\":\n",
    "        return \"orange\"\n",
    "    if alerta_prediction == \"alto\":\n",
    "        return \"red\""
   ]
  },
  {
   "cell_type": "code",
   "execution_count": null,
   "id": "6d3eea25",
   "metadata": {},
   "outputs": [],
   "source": []
  },
  {
   "cell_type": "code",
   "execution_count": null,
   "id": "995bb791",
   "metadata": {},
   "outputs": [],
   "source": []
  },
  {
   "cell_type": "markdown",
   "id": "ef978b81",
   "metadata": {},
   "source": [
    "### FEATURE 1 - info predicción actual\n",
    "Fecha ultima ejecución, fecha predicción, valor predicción, rango de alerta"
   ]
  },
  {
   "cell_type": "code",
   "execution_count": null,
   "id": "d3d8e5bb",
   "metadata": {},
   "outputs": [],
   "source": [
    "# consultar tabla instance_predictions\n",
    "query_instance_prediction = f\"\"\"\n",
    "SELECT * \n",
    "FROM `{PROJECT_ID}.{DATASET_ID}.front_instance_predictions` \n",
    "\"\"\"\n",
    "table_instance_predictions = GCPQuery2BigQuery(f'{PROJECT_ID}', query_instance_prediction)"
   ]
  },
  {
   "cell_type": "markdown",
   "id": "90dbffed",
   "metadata": {},
   "source": [
    "#### Feature 1.1 Info predicción actual"
   ]
  },
  {
   "cell_type": "code",
   "execution_count": null,
   "id": "3adfec8a",
   "metadata": {},
   "outputs": [],
   "source": [
    "FECHA_ULTIMA_ACTUALIZACION = table_instance_predictions['datetime'][0].strftime('%Y-%m-%d %H:%M:%S')\n",
    "FECHA_PREDICCION = table_instance_predictions['datetime_forecast'][0].strftime('%Y-%m-%d %H:%M:%S')\n",
    "VALOR_PREDICCION = np.round(table_instance_predictions['Value_prediction'].values[0], 2)\n",
    "ALERTA_PREDICCION = table_instance_predictions['Alert_prediction'].values[0]\n",
    "COLOR_ALERTA_PREDICCION = get_color_alerta_prediction(ALERTA_PREDICCION)\n",
    "\n",
    "print('----- variables para front -----')\n",
    "print(\"FECHA_ULTIMA_ACTUALIZACION: \", FECHA_ULTIMA_ACTUALIZACION) \n",
    "print(\"FECHA_PREDICCION: \", FECHA_PREDICCION) \n",
    "print(\"VALOR_PREDICCION: \", VALOR_PREDICCION) \n",
    "print(\"ALERTA_PREDICCION: \", ALERTA_PREDICCION)\n",
    "print(\"COLOR_ALERTA_PREDICCION: \", COLOR_ALERTA_PREDICCION) "
   ]
  },
  {
   "cell_type": "markdown",
   "id": "fab89e07",
   "metadata": {},
   "source": [
    "#### Feature 1.2. Semáforo alerta predicción actual"
   ]
  },
  {
   "cell_type": "code",
   "execution_count": null,
   "id": "b7d3e2f3",
   "metadata": {},
   "outputs": [],
   "source": [
    "def identificar_alerta_actual_para_semaforo(nivel_alerta):\n",
    "    \"\"\"\n",
    "    Identificar alerta actual (green, orange, red) y generar output para semáforo\n",
    "    \n",
    "    Output semáforo:\n",
    "        colors = ['rgb(50, 50, 50)', 'orange', 'rgb(50, 50, 50)']\n",
    "        sizes = [50, 75, 50]\n",
    "        \n",
    "    Cuando está apagado color toma los valores \"rgb(50, 50, 50)\" y el tamaño de la esfera es \"50\"\n",
    "    Cuando está encendido color toma los valores \"green\" (nombre del color encendido) y el tamaño de la esfera es \"75\"\n",
    "    \"\"\"\n",
    "    \n",
    "    print('NIVEL DE ALERTA ACTUAL: ', nivel_alerta)\n",
    "\n",
    "    # generar colors y size por defecto todo apagado. ORDEN: ['red', 'orange', 'green']\n",
    "    colors = ['rgb(50, 50, 50)', 'rgb(50, 50, 50)', 'rgb(50, 50, 50)']\n",
    "    sizes = [50, 50, 50]\n",
    "\n",
    "    # encender (color y tamaño) del nivel de alerta actual\n",
    "    if nivel_alerta == \"green\":\n",
    "        colors[2] = \"green\"\n",
    "        sizes[2] = 75\n",
    "\n",
    "    if nivel_alerta == \"orange\":\n",
    "        colors[1] = \"orange\"\n",
    "        sizes[1] = 75\n",
    "\n",
    "    if nivel_alerta == \"red\":\n",
    "        colors[0] = \"red\"\n",
    "        sizes[0] = 75\n",
    "        \n",
    "    return colors, sizes"
   ]
  },
  {
   "cell_type": "code",
   "execution_count": null,
   "id": "691e62ec",
   "metadata": {},
   "outputs": [],
   "source": [
    "def make_plot_semaforo(nivel_alerta, save_json = False):\n",
    "    \"\"\"\n",
    "    Dado el nivel de alerta, hacer un semáforo que esté encendido de acuerdo al grado de alerta\n",
    "    \"\"\"\n",
    "    \n",
    "    #### OBTENER COLORS Y SIZES DEL SEMÁFORO - ESTA CONFIGURACIÓN VARIA DE ACUERDO AL COLOR DE ALERTA \"green, orange, red\"\n",
    "    colors, sizes = identificar_alerta_actual_para_semaforo(nivel_alerta)\n",
    "\n",
    "    \n",
    "    # PARAMS\n",
    "    x_coords = [0.5, 0.5, 0.5]\n",
    "    y_coords = [0.8, 0.5, 0.2]\n",
    "    values = [1, 2, 3]\n",
    "    labels = ['Red', 'Yellow', 'Green']\n",
    "\n",
    "\n",
    "    #HACER GRAFICO\n",
    "    texts = [f\"{label}<br>Value: {value}\" for label, value in zip(labels, values)]\n",
    "    hoverinfos = ['text', 'text', 'text']\n",
    "\n",
    "    fig = go.Figure()\n",
    "\n",
    "    for i in range(3):\n",
    "        fig.add_trace(\n",
    "            go.Scatter(\n",
    "                x=[x_coords[i]],\n",
    "                y=[y_coords[i]],\n",
    "                text=texts[i],\n",
    "                hoverinfo=hoverinfos[i],\n",
    "                mode='markers',\n",
    "                marker=dict(\n",
    "                    color=colors[i],\n",
    "                    size=sizes[i],\n",
    "                    line=dict(\n",
    "                        color='black',\n",
    "                        width=2\n",
    "                    )\n",
    "                )\n",
    "            )\n",
    "        )\n",
    "\n",
    "    fig.update_layout(\n",
    "        xaxis=dict(\n",
    "            range=[0, 1],\n",
    "            showticklabels=False,\n",
    "            zeroline=False\n",
    "        ),\n",
    "        yaxis=dict(\n",
    "            range=[0, 1],\n",
    "            showticklabels=False,\n",
    "            zeroline=False\n",
    "        ),\n",
    "        height=600,\n",
    "        width=300,\n",
    "        showlegend=False\n",
    "    )\n",
    "    \n",
    "    # show plot - desactivado porque sino abre el plot en otra pestaña\n",
    "    fig.show()\n",
    "    \n",
    "    # json to html\n",
    "    if save_json == True:\n",
    "        graphJSON = json.dumps(fig, cls = plotly.utils.PlotlyJSONEncoder)\n",
    "        return graphJSON"
   ]
  },
  {
   "cell_type": "code",
   "execution_count": null,
   "id": "6a2fede5",
   "metadata": {},
   "outputs": [],
   "source": [
    "JSON_SEMAFORO_ALERTA = make_plot_semaforo(nivel_alerta = COLOR_ALERTA_PREDICCION, \n",
    "                                          save_json = True)"
   ]
  },
  {
   "cell_type": "code",
   "execution_count": null,
   "id": "23a52087",
   "metadata": {},
   "outputs": [],
   "source": []
  },
  {
   "cell_type": "code",
   "execution_count": null,
   "id": "71f3e011",
   "metadata": {},
   "outputs": [],
   "source": []
  },
  {
   "cell_type": "markdown",
   "id": "57de0ef7",
   "metadata": {},
   "source": [
    "### FEATURE 2: graficar tendencia real vs predicho\n",
    "Gráfico de la tendencia del valor real vs el valor predicho"
   ]
  },
  {
   "cell_type": "code",
   "execution_count": null,
   "id": "4eff34b9",
   "metadata": {},
   "outputs": [],
   "source": [
    "# consultar tabla tendency_predictions\n",
    "query_tendency_predictions = f\"\"\"\n",
    "SELECT * \n",
    "FROM `{PROJECT_ID}.{DATASET_ID}.front_tendency_predictions`\n",
    "order by datetime asc\n",
    "\"\"\"\n",
    "table_tendency_predictions = GCPQuery2BigQuery(f'{PROJECT_ID}', query_tendency_predictions)"
   ]
  },
  {
   "cell_type": "code",
   "execution_count": null,
   "id": "af3bd26d",
   "metadata": {},
   "outputs": [],
   "source": []
  },
  {
   "cell_type": "markdown",
   "id": "8c437c9e",
   "metadata": {},
   "source": [
    "#### FEATURE 2.1: Gráficar tendencia númerica real vs predicho"
   ]
  },
  {
   "cell_type": "code",
   "execution_count": null,
   "id": "65ec5d45",
   "metadata": {},
   "outputs": [],
   "source": [
    "def tendencia_real_vs_predicho(df, save_json = False):\n",
    "    \"\"\"\n",
    "    Graficar real vs predicho\n",
    "    \"\"\"\n",
    "    fig = make_subplots(rows=1, cols=1, shared_xaxes=True)\n",
    "     \n",
    "    fig.add_trace(go.Scatter(x=df['datetime'], y=df['Value_prediction'], mode='lines', name='Valor predicho', line=dict(color='blue', width=3)), row=1, col=1)\n",
    "    fig.add_trace(go.Scatter(x=df['datetime'], y=df['Value_true'], mode='lines', name='Valor real', line=dict(color='grey', width=3)), row=1, col=1)\n",
    "\n",
    "    fig.update_layout(\n",
    "        title='Tendencia Kappa real vs Predicho (últimas 8 horas)',\n",
    "        xaxis_title='Fecha y hora',\n",
    "        yaxis_title='Valor',\n",
    "        yaxis_title_standoff=30, # ajustar el valor según la distancia deseada\n",
    "        height=600, \n",
    "        width=1000,\n",
    "        title_x=0.5\n",
    "    )\n",
    "\n",
    "    # show plot - desactivado porque sino abre el plot en otra pestaña\n",
    "    fig.show()\n",
    "    \n",
    "    # json to html\n",
    "    if save_json == True:\n",
    "        graphJSON = json.dumps(fig, cls = plotly.utils.PlotlyJSONEncoder)\n",
    "        return graphJSON"
   ]
  },
  {
   "cell_type": "code",
   "execution_count": null,
   "id": "bc0c4e58",
   "metadata": {
    "scrolled": true
   },
   "outputs": [],
   "source": [
    "JSON_TENDENCIA_REAL_PREDICHO = tendencia_real_vs_predicho(df = table_tendency_predictions,\n",
    "                                                          save_json = True)"
   ]
  },
  {
   "cell_type": "code",
   "execution_count": null,
   "id": "3afc9769",
   "metadata": {},
   "outputs": [],
   "source": []
  },
  {
   "cell_type": "markdown",
   "id": "25698bcf",
   "metadata": {},
   "source": [
    "#### FEATURE 2.2: Gráficar tendencia alertas generadas"
   ]
  },
  {
   "cell_type": "code",
   "execution_count": null,
   "id": "b419ab7e",
   "metadata": {},
   "outputs": [],
   "source": [
    "def tendencia_alertas_predichas(df, save_json = False):\n",
    "    \"\"\"\n",
    "    Hacer un gráfico de barras para representar la tendencia de las diferentes predicciones de alertas: bajo, medio, alto\n",
    "    \"\"\"\n",
    "\n",
    "    \"\"\" definir params \"\"\"\n",
    "\n",
    "    # parámetros mapeo colores (bajo, medio, alto) (green, orange, red), (1,2,3)\n",
    "    colors = {'bajo': 'green', 'medio': 'orange', 'alto': 'red'}\n",
    "    number = {'bajo': 1, 'medio': 2, 'alto': 3}\n",
    "\n",
    "\n",
    "    # obtener los valores únicos de las predicciones (por ejemplo que solo hallan prediciones bajo y no medio ni alto)\n",
    "    alertas_unicas_generadas = df['Alert_prediction'].unique()\n",
    "\n",
    "    # filtrar los parámetros de mapeo de acuerdo a los valors únicos predichos\n",
    "    # por ejemplo si en las predicciones solo hay valores \"bajo\" y \"alto\", el valor \"medio debe de borrarse de los params\"\n",
    "    colors = {clave: valor for clave, valor in colors.items() if clave in alertas_unicas_generadas}\n",
    "    number = {clave: valor for clave, valor in number.items() if clave in alertas_unicas_generadas}\n",
    "    cat_order = list(colors.keys())\n",
    "\n",
    "    \n",
    "    \"\"\" transformaciones a los datos - de acuerdo a los params \"\"\"\n",
    "\n",
    "    # Convertir la columna \"Alert_prediction\" en tipo categórico con un orden específico\n",
    "    df['Alert_prediction'] = pd.Categorical(df['Alert_prediction'], categories=cat_order, ordered=True)\n",
    "\n",
    "    ## Crear la columna \"Bar_size\" con el tamaño de las barras\n",
    "    df['Bar_size'] = df['Alert_prediction'].map(number)\n",
    "\n",
    "\n",
    "\n",
    "    ########################################################################################################################\n",
    "    # Crear el gráfico de barras\n",
    "    fig = px.bar(df, x='datetime', y='Bar_size', color='Alert_prediction', barmode='stack', color_discrete_map=colors)\n",
    "\n",
    "    # Establecer el orden deseado en el eje y\n",
    "    fig.update_layout(title='Tendencia de Alertas Generadas',\n",
    "                      xaxis_title='Fecha y hora',\n",
    "                      yaxis_title='Frecuencia',\n",
    "                      yaxis=dict(categoryorder='array', categoryarray=cat_order, tickvals=list(range(1, len(cat_order)+1)), ticktext=cat_order),\n",
    "                      title_x=0.5\n",
    "                     )\n",
    "\n",
    "    # show plot - desactivado porque sino abre el plot en otra pestaña\n",
    "    #fig.show()\n",
    "\n",
    "\n",
    "    # json to html\n",
    "    if save_json == True:\n",
    "        graphJSON = json.dumps(fig, cls = plotly.utils.PlotlyJSONEncoder)\n",
    "        return graphJSON"
   ]
  },
  {
   "cell_type": "code",
   "execution_count": null,
   "id": "126707a2",
   "metadata": {},
   "outputs": [],
   "source": [
    "JSON_TENDENCIA_ALERTAS = tendencia_alertas_predichas(df = table_tendency_predictions,\n",
    "                                                    save_json = True)"
   ]
  },
  {
   "cell_type": "code",
   "execution_count": null,
   "id": "8747d9ae",
   "metadata": {},
   "outputs": [],
   "source": []
  },
  {
   "cell_type": "code",
   "execution_count": null,
   "id": "f1c9f4ea",
   "metadata": {},
   "outputs": [],
   "source": []
  },
  {
   "cell_type": "code",
   "execution_count": null,
   "id": "4501003c",
   "metadata": {},
   "outputs": [],
   "source": []
  }
 ],
 "metadata": {
  "kernelspec": {
   "display_name": "Python 3 (ipykernel)",
   "language": "python",
   "name": "python3"
  },
  "language_info": {
   "codemirror_mode": {
    "name": "ipython",
    "version": 3
   },
   "file_extension": ".py",
   "mimetype": "text/x-python",
   "name": "python",
   "nbconvert_exporter": "python",
   "pygments_lexer": "ipython3",
   "version": "3.10.14"
  }
 },
 "nbformat": 4,
 "nbformat_minor": 5
}
