{
 "cells": [
  {
   "cell_type": "markdown",
   "id": "2372eef9",
   "metadata": {},
   "source": [
    "# Iris dataset profiling\n",
    "En este ejemplo se hace el profiling de uno de los datasets más conocidos (iris dataset)"
   ]
  },
  {
   "cell_type": "code",
   "execution_count": null,
   "id": "f5dccb53",
   "metadata": {},
   "outputs": [],
   "source": [
    "from sklearn import datasets\n",
    "import pandas as pd\n",
    "from ydata_profiling import ProfileReport"
   ]
  },
  {
   "cell_type": "markdown",
   "id": "80467bb4",
   "metadata": {},
   "source": [
    "### 1) Load data"
   ]
  },
  {
   "cell_type": "code",
   "execution_count": null,
   "id": "223ee05f",
   "metadata": {},
   "outputs": [],
   "source": [
    "# load data\n",
    "iris = datasets.load_iris()"
   ]
  },
  {
   "cell_type": "code",
   "execution_count": null,
   "id": "21b24a38",
   "metadata": {},
   "outputs": [],
   "source": [
    "# generar x\n",
    "X = pd.DataFrame(iris.data, columns = iris.feature_names)\n",
    "X.head()"
   ]
  },
  {
   "cell_type": "code",
   "execution_count": null,
   "id": "9ae01f9a",
   "metadata": {},
   "outputs": [],
   "source": [
    "# generar y\n",
    "y = pd.DataFrame(iris.target)\n",
    "y = y.replace({0:'setosa', 1:'versicolor', 2:'virginica'})\n",
    "y.head()"
   ]
  },
  {
   "cell_type": "code",
   "execution_count": null,
   "id": "bf4fc6c7",
   "metadata": {},
   "outputs": [],
   "source": [
    "# unir en un dataset\n",
    "data = X.copy()\n",
    "data['taget'] = y\n",
    "data.head()"
   ]
  },
  {
   "cell_type": "code",
   "execution_count": null,
   "id": "3b3a3f54",
   "metadata": {},
   "outputs": [],
   "source": [
    "# guardar csv con la data\n",
    "data.to_csv('iris_data.csv')"
   ]
  },
  {
   "cell_type": "code",
   "execution_count": null,
   "id": "d894592e",
   "metadata": {},
   "outputs": [],
   "source": []
  },
  {
   "cell_type": "markdown",
   "id": "df424136",
   "metadata": {},
   "source": [
    "### 2) Generar reporte html del dataset"
   ]
  },
  {
   "cell_type": "code",
   "execution_count": null,
   "id": "25ad716c",
   "metadata": {},
   "outputs": [],
   "source": [
    "# generar un report estandar de profiling\n",
    "profile = ProfileReport(data, title = \"Iris Dataset Report\")\n",
    "\n",
    "# guardar html con el reporte\n",
    "profile.to_file(\"output_iris_dataset/report.html\")"
   ]
  },
  {
   "cell_type": "code",
   "execution_count": null,
   "id": "02dcefeb",
   "metadata": {},
   "outputs": [],
   "source": [
    "profile"
   ]
  },
  {
   "cell_type": "code",
   "execution_count": null,
   "id": "1caa6b0d",
   "metadata": {},
   "outputs": [],
   "source": []
  },
  {
   "cell_type": "markdown",
   "id": "4b8babb1",
   "metadata": {},
   "source": [
    "### 3) Generar reporte minimal\n",
    "- Ydata-profiling tiene un alto costo computacional para hacer los análisis de correlaciones, interacciones, missing values, valores duplicados\n",
    "- Entonces se puede fijar el parámetro minimal para generar un reporte que solo realize los cálculos con menor costo computacional\n",
    "- Esto sirve como punto de partida para el análisis de datasets de gran tamaño\n",
    "- Documentación profiling large datasets: https://ydata-profiling.ydata.ai/docs/master/pages/use_cases/big_data.html#"
   ]
  },
  {
   "cell_type": "code",
   "execution_count": null,
   "id": "16a5c878",
   "metadata": {},
   "outputs": [],
   "source": [
    "# generar un report estandar de profiling - minimal\n",
    "profile = ProfileReport(data, title = \"Iris Dataset Report\", minimal=True)\n",
    "\n",
    "# guardar html con el reporte\n",
    "profile.to_file(\"output_iris_dataset/report_minimal.html\")"
   ]
  },
  {
   "cell_type": "code",
   "execution_count": null,
   "id": "8a4f5495",
   "metadata": {},
   "outputs": [],
   "source": [
    "profile"
   ]
  },
  {
   "cell_type": "code",
   "execution_count": null,
   "id": "6a0bb7b1",
   "metadata": {},
   "outputs": [],
   "source": []
  },
  {
   "cell_type": "markdown",
   "id": "a864a3e8",
   "metadata": {},
   "source": [
    "### 4) Separar data en train y test. Luego generar reporte comparando ambos datasets\n",
    "- Objetivo comparar 2 datasets\n",
    "- En el ejemplo se comparan train vs test\n",
    "- Pero también se podría comparar reporte antes de hacer alguna limpieza y luego de hacer alguna limpieza\n",
    "- También se pueden comparar 3+ datasets (ver documentación)\n",
    "\n",
    "Documentación: https://ydata-profiling.ydata.ai/docs/master/pages/use_cases/comparing_datasets.html"
   ]
  },
  {
   "cell_type": "code",
   "execution_count": null,
   "id": "c376618a",
   "metadata": {},
   "outputs": [],
   "source": [
    "# separar train test\n",
    "from sklearn.model_selection import train_test_split\n",
    "X_train, X_test, y_train, y_test = train_test_split(X, y, test_size=0.33, random_state=42)"
   ]
  },
  {
   "cell_type": "code",
   "execution_count": null,
   "id": "9d0df12c",
   "metadata": {},
   "outputs": [],
   "source": [
    "# generar data_train y data_test\n",
    "data_train = X_train.copy()\n",
    "data_train['target'] = y_train\n",
    "\n",
    "data_test = X_test.copy()\n",
    "data_test['target'] = y_test"
   ]
  },
  {
   "cell_type": "code",
   "execution_count": null,
   "id": "8949806d",
   "metadata": {},
   "outputs": [],
   "source": [
    "data_train.head()"
   ]
  },
  {
   "cell_type": "code",
   "execution_count": null,
   "id": "6e0364f3",
   "metadata": {},
   "outputs": [],
   "source": [
    "data_test.head()"
   ]
  },
  {
   "cell_type": "code",
   "execution_count": null,
   "id": "ba6e2bee",
   "metadata": {},
   "outputs": [],
   "source": []
  },
  {
   "cell_type": "code",
   "execution_count": null,
   "id": "52dcf790",
   "metadata": {},
   "outputs": [],
   "source": [
    "# generar reporte comparando ambos datasets\n",
    "from pandas_profiling import ProfileReport\n",
    "\n",
    "\n",
    "# generar reporte individual\n",
    "train_report = ProfileReport(data_train, title = \"Iris Dataset train\")\n",
    "test_report = ProfileReport(data_test, title = \"Iris Dataset test\")\n",
    "\n",
    "\n",
    "# generar reporte comparando reportes individuales\n",
    "comparison_report = train_report.compare(test_report)\n",
    "comparison_report.to_file(\"output_iris_dataset/comparison_train_test.html\")"
   ]
  },
  {
   "cell_type": "code",
   "execution_count": null,
   "id": "de0820f8",
   "metadata": {},
   "outputs": [],
   "source": [
    "comparison_report"
   ]
  },
  {
   "cell_type": "code",
   "execution_count": null,
   "id": "0cac5648",
   "metadata": {},
   "outputs": [],
   "source": []
  }
 ],
 "metadata": {
  "kernelspec": {
   "display_name": "Python 3 (ipykernel)",
   "language": "python",
   "name": "python3"
  },
  "language_info": {
   "codemirror_mode": {
    "name": "ipython",
    "version": 3
   },
   "file_extension": ".py",
   "mimetype": "text/x-python",
   "name": "python",
   "nbconvert_exporter": "python",
   "pygments_lexer": "ipython3",
   "version": "3.10.14"
  }
 },
 "nbformat": 4,
 "nbformat_minor": 5
}
