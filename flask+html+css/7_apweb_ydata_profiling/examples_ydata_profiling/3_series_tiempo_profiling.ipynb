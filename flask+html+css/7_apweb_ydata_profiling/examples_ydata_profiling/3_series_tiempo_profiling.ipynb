{
 "cells": [
  {
   "cell_type": "markdown",
   "id": "dd9a4d84",
   "metadata": {},
   "source": [
    "# Series de tiempo profiling\n",
    "\n",
    "Hacer profiling de series de tiempo.\n",
    "En este ejemplo se descarga data desde yahoo finanzas para hacer el ejemplo"
   ]
  },
  {
   "cell_type": "code",
   "execution_count": null,
   "id": "4b807953",
   "metadata": {},
   "outputs": [],
   "source": [
    "#! pip install yfinance\n",
    "\n",
    "#!pip install yfinance --upgrade\n",
    "#!pip install pandas --upgrade"
   ]
  },
  {
   "cell_type": "code",
   "execution_count": null,
   "id": "d389dc72",
   "metadata": {},
   "outputs": [],
   "source": [
    "!pip show yfinance"
   ]
  },
  {
   "cell_type": "code",
   "execution_count": null,
   "id": "1d479e31",
   "metadata": {},
   "outputs": [],
   "source": [
    "import pandas as pd\n",
    "import yfinance as yf\n",
    "from ydata_profiling import ProfileReport"
   ]
  },
  {
   "cell_type": "code",
   "execution_count": null,
   "id": "755b45d6",
   "metadata": {},
   "outputs": [],
   "source": []
  },
  {
   "cell_type": "markdown",
   "id": "23f2631c",
   "metadata": {},
   "source": [
    "### 1. Descargar data desde yahoo finanzas"
   ]
  },
  {
   "cell_type": "code",
   "execution_count": null,
   "id": "b2253d1d",
   "metadata": {},
   "outputs": [],
   "source": [
    "# Especifica el símbolo bursátil de la empresa\n",
    "symbol = \"AAPL\"\n",
    "\n",
    "# Descarga los datos históricos utilizando yfinance\n",
    "stock_data = yf.download(symbol, start=\"2022-01-01\", end=\"2023-04-29\")\n",
    "\n",
    "# Crea un DataFrame de pandas con los datos descargados\n",
    "data = pd.DataFrame(stock_data)"
   ]
  },
  {
   "cell_type": "code",
   "execution_count": null,
   "id": "ee4d2644",
   "metadata": {},
   "outputs": [],
   "source": [
    "data.head()"
   ]
  },
  {
   "cell_type": "code",
   "execution_count": null,
   "id": "ba6c2df2",
   "metadata": {},
   "outputs": [],
   "source": [
    "data.tail()"
   ]
  },
  {
   "cell_type": "code",
   "execution_count": null,
   "id": "08787e09",
   "metadata": {},
   "outputs": [],
   "source": [
    "data.info()"
   ]
  },
  {
   "cell_type": "code",
   "execution_count": null,
   "id": "d02120f0",
   "metadata": {},
   "outputs": [],
   "source": [
    "data.index"
   ]
  },
  {
   "cell_type": "code",
   "execution_count": null,
   "id": "ed34a8de",
   "metadata": {},
   "outputs": [],
   "source": []
  },
  {
   "cell_type": "markdown",
   "id": "ede761f9",
   "metadata": {},
   "source": [
    "### 2. Generar info clásico pandas profile"
   ]
  },
  {
   "cell_type": "code",
   "execution_count": null,
   "id": "240f4d48",
   "metadata": {},
   "outputs": [],
   "source": [
    "profile = ProfileReport(data, title = \"Apple Report\")\n",
    "profile.to_file(\"output_timeseries/report.html\")"
   ]
  },
  {
   "cell_type": "code",
   "execution_count": null,
   "id": "6af58eea",
   "metadata": {},
   "outputs": [],
   "source": []
  },
  {
   "cell_type": "code",
   "execution_count": null,
   "id": "98d61089",
   "metadata": {},
   "outputs": [],
   "source": []
  },
  {
   "cell_type": "markdown",
   "id": "41daa87b",
   "metadata": {},
   "source": [
    "### 3. Generar info time series pandas profiling\n",
    "Ydata-profiling (pandas profiling) permite hacer análisis de series de tiempo.\n",
    "En este notebook de ejemplo ocurren errores que no se han solucionado y no permite realizar el reporte de la serie de tiempo.\n",
    "En la documentación se observa cómo hacer el profiling de series de tiempo\n",
    "\n",
    "Documentación:\n",
    "- ejemplo: https://github.com/ydataai/ydata-profiling/blob/master/examples/usaairquality/usaairquality.ipynb\n",
    "- documentación ydata-profiling: https://ydata-profiling.ydata.ai/docs/master/pages/use_cases/time_series_datasets.html"
   ]
  },
  {
   "cell_type": "code",
   "execution_count": null,
   "id": "e978d637",
   "metadata": {},
   "outputs": [],
   "source": [
    "data"
   ]
  },
  {
   "cell_type": "code",
   "execution_count": null,
   "id": "35d7bdf0",
   "metadata": {},
   "outputs": [],
   "source": [
    "data.info()"
   ]
  },
  {
   "cell_type": "code",
   "execution_count": null,
   "id": "3b080cf7",
   "metadata": {},
   "outputs": [],
   "source": [
    "data[['Open']].head()"
   ]
  },
  {
   "cell_type": "code",
   "execution_count": null,
   "id": "7d22077b",
   "metadata": {},
   "outputs": [],
   "source": [
    "# eliminar feature \"Volume\" al no ser float\n",
    "data = data[['Open','High','Low','Close','Adj Close']]"
   ]
  },
  {
   "cell_type": "code",
   "execution_count": null,
   "id": "4573458f",
   "metadata": {},
   "outputs": [],
   "source": [
    "data"
   ]
  },
  {
   "cell_type": "code",
   "execution_count": null,
   "id": "8e945f1c",
   "metadata": {},
   "outputs": [],
   "source": [
    "# reporte serie de tiempo\n",
    "profile = ProfileReport(data, tsmode=True, sortby = 'Date', title=\"Time-Series EDA\")\n",
    "\n",
    "profile.to_file(\"output_timeseries/report_timeseries.html\")"
   ]
  }
 ],
 "metadata": {
  "kernelspec": {
   "display_name": "Python 3 (ipykernel)",
   "language": "python",
   "name": "python3"
  },
  "language_info": {
   "codemirror_mode": {
    "name": "ipython",
    "version": 3
   },
   "file_extension": ".py",
   "mimetype": "text/x-python",
   "name": "python",
   "nbconvert_exporter": "python",
   "pygments_lexer": "ipython3",
   "version": "3.10.14"
  }
 },
 "nbformat": 4,
 "nbformat_minor": 5
}
