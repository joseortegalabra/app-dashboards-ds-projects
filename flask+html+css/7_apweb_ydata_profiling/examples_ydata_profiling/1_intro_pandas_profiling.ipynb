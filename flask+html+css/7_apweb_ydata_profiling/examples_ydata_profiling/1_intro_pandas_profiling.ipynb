{
 "cells": [
  {
   "cell_type": "markdown",
   "id": "0c2a236e",
   "metadata": {},
   "source": [
    "# Perfilamiento de datos\n",
    "\n",
    "#### I) Qué es/Breve explicación\n",
    "El perfilamiento de datos es un proceso que se utiliza para analizar y evaluar los datos de una fuente de datos con el fin de comprender su calidad y estructura. El objetivo principal del perfilamiento de datos es descubrir problemas, errores o inconsistencias en los datos que puedan afectar su integridad y calidad.\n",
    "\n",
    "Durante el proceso de perfilamiento de datos, se pueden identificar diversos aspectos de los datos, como la cantidad de registros, la presencia de valores nulos o duplicados, los tipos de datos, la distribución de los valores, los patrones de los datos y las relaciones entre las variables.\n",
    "\n",
    "El perfilamiento de datos es un paso crítico en el proceso de preparación de datos para su uso en análisis, minería de datos, modelado y otros procesos que requieren datos precisos y confiables. El perfilamiento de datos ayuda a garantizar que los datos estén limpios, completos y coherentes antes de que se utilicen en aplicaciones críticas. Además, el perfilamiento de datos también puede ayudar a identificar patrones y tendencias en los datos que pueden ser útiles para la toma de decisiones empresariales.\n",
    "\n",
    "#### II) Herramientas / Package para profiling de datos\n",
    "Existen varias herramientas útiles para el perfilamiento de los datos. Algunas de ellas son:\n",
    "\n",
    "- **pandas-profiling**: Este paquete genera informes detallados de análisis exploratorio de datos para DataFrames de pandas. Incluye estadísticas descriptivas, visualizaciones y sugerencias para la limpieza de datos.\n",
    "\n",
    "- **Dataprep**: Es una biblioteca de Python que proporciona una amplia variedad de herramientas de preparación de datos, incluyendo análisis exploratorio de datos, limpieza de datos y preprocesamiento de datos. Ejemplo de uso: https://www.kaggle.com/code/sureshmecad/dataprep-autoeda\n",
    "\n",
    "- **Sweetviz** \n",
    "\n",
    "- **D-Tale**: Permite hacer análisis de forma visual\n",
    "\n",
    "- **Exploratory**: Software pagado \n",
    "\n",
    "\n",
    "#### III) Pandas Profiling\n",
    "En este Notebook se va a utilizar pandas profiling y se va a mostrar cómo utilizar este package\n",
    "\n",
    "Sources: https://pypi.org/project/ydata-profiling/"
   ]
  },
  {
   "cell_type": "code",
   "execution_count": null,
   "id": "27e3aeda",
   "metadata": {},
   "outputs": [],
   "source": []
  },
  {
   "cell_type": "markdown",
   "id": "f4b88c29",
   "metadata": {},
   "source": [
    "# RUN"
   ]
  },
  {
   "cell_type": "markdown",
   "id": "00666431",
   "metadata": {},
   "source": [
    "### 1) install\n",
    "- De acuerdo a la documentación pandas-profiling fue reemplazado por ydata-profiling (⚠️ pandas-profiling package naming was changed. To continue profiling data use ydata-profiling instead!)\n",
    "\n",
    "- Por lo tanto se utiliza este package (ydata-profiling) en el ejemplo"
   ]
  },
  {
   "cell_type": "code",
   "execution_count": null,
   "id": "e08a5987",
   "metadata": {},
   "outputs": [],
   "source": [
    "\"\"\" install ydata-profiling (actualización pandas profiling) \"\"\"\n",
    "# # actualizar matplotlib para las visualizaciones\n",
    "# !pip install --upgrade matplotlib\n",
    "\n",
    "# # para ver reportes de profile en notebooks\n",
    "# !pip install ipywidgets\n",
    "\n",
    "# para leer excel desde pandas\n",
    "# !pip install --upgrade openpyxl\n",
    "\n",
    "# profiling\n",
    "# !pip install ydata-profiling"
   ]
  },
  {
   "cell_type": "code",
   "execution_count": null,
   "id": "a34c2ce1",
   "metadata": {},
   "outputs": [],
   "source": []
  },
  {
   "cell_type": "code",
   "execution_count": null,
   "id": "f75d848a",
   "metadata": {},
   "outputs": [],
   "source": [
    "! pip show matplotlib"
   ]
  },
  {
   "cell_type": "code",
   "execution_count": null,
   "id": "9c5b9678",
   "metadata": {},
   "outputs": [],
   "source": [
    "! pip show ydata-profiling "
   ]
  },
  {
   "cell_type": "code",
   "execution_count": null,
   "id": "e56537f2",
   "metadata": {},
   "outputs": [],
   "source": []
  },
  {
   "cell_type": "markdown",
   "id": "92dc49b3",
   "metadata": {},
   "source": [
    "### 2) import"
   ]
  },
  {
   "cell_type": "code",
   "execution_count": null,
   "id": "d5b009bc",
   "metadata": {},
   "outputs": [],
   "source": [
    "import pandas as pd\n",
    "import ydata_profiling"
   ]
  },
  {
   "cell_type": "code",
   "execution_count": null,
   "id": "14aafab4",
   "metadata": {},
   "outputs": [],
   "source": []
  },
  {
   "cell_type": "markdown",
   "id": "21993c5e",
   "metadata": {},
   "source": [
    "### 3) quick start"
   ]
  },
  {
   "cell_type": "code",
   "execution_count": null,
   "id": "2b9561bf",
   "metadata": {},
   "outputs": [],
   "source": [
    "import numpy as np\n",
    "import pandas as pd\n",
    "from ydata_profiling import ProfileReport\n",
    "\n",
    "# generar data\n",
    "df = pd.DataFrame(np.random.rand(100, 5), columns=[\"a\", \"b\", \"c\", \"d\", \"e\"])\n",
    "\n",
    "df.head()"
   ]
  },
  {
   "cell_type": "code",
   "execution_count": null,
   "id": "234dfb9f",
   "metadata": {},
   "outputs": [],
   "source": [
    "# generar un report estandar de profiling\n",
    "profile = ProfileReport(df, title=\"Profiling Report\")"
   ]
  },
  {
   "cell_type": "code",
   "execution_count": null,
   "id": "c935ab40",
   "metadata": {},
   "outputs": [],
   "source": [
    "# ver reporte profile en notebook\n",
    "profile"
   ]
  },
  {
   "cell_type": "code",
   "execution_count": null,
   "id": "da452159",
   "metadata": {},
   "outputs": [],
   "source": [
    "# otra forma de ver reporte en notebook\n",
    "# profile.to_notebook_iframe()"
   ]
  },
  {
   "cell_type": "code",
   "execution_count": null,
   "id": "5f6b5423",
   "metadata": {},
   "outputs": [],
   "source": [
    "# guardar html con el reporte\n",
    "profile.to_file(\"output_quick_start/report.html\")"
   ]
  },
  {
   "cell_type": "code",
   "execution_count": null,
   "id": "8c1fae00",
   "metadata": {},
   "outputs": [],
   "source": [
    "# generar json del reporte\n",
    "json_data = profile.to_json()\n",
    "json_data"
   ]
  },
  {
   "cell_type": "code",
   "execution_count": null,
   "id": "751b48a0",
   "metadata": {},
   "outputs": [],
   "source": [
    "# guardar json con el reporte\n",
    "profile.to_file(\"output_quick_start/report.json\")"
   ]
  },
  {
   "cell_type": "code",
   "execution_count": null,
   "id": "50644d4e",
   "metadata": {},
   "outputs": [],
   "source": []
  }
 ],
 "metadata": {
  "kernelspec": {
   "display_name": "Python 3 (ipykernel)",
   "language": "python",
   "name": "python3"
  },
  "language_info": {
   "codemirror_mode": {
    "name": "ipython",
    "version": 3
   },
   "file_extension": ".py",
   "mimetype": "text/x-python",
   "name": "python",
   "nbconvert_exporter": "python",
   "pygments_lexer": "ipython3",
   "version": "3.10.14"
  }
 },
 "nbformat": 4,
 "nbformat_minor": 5
}
