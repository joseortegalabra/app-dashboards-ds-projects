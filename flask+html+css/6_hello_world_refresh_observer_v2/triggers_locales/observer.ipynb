{
 "cells": [
  {
   "cell_type": "markdown",
   "id": "4e1a6ac9",
   "metadata": {},
   "source": [
    "# OBSERVER\n",
    "\n",
    "El observer que se va a consultar va a una tabla de bigquery, específicamente la tabla **\"param_tracking_update\"** que contiene únicamente la fecha de la última actualización de los datos (por lo que el costo de consulta es muy bajo) y se va a consultar constamente y comparar el valor de la fecha de actualización del backend con la fecha guardada en la API.\n",
    "\n",
    "Luego si las fechas son distintas se va a proceder a actualizar toda la app web, volviendo a ejecutar la API y llendo a buscar los datos actualizados"
   ]
  },
  {
   "cell_type": "code",
   "execution_count": null,
   "id": "8a07cd44",
   "metadata": {},
   "outputs": [],
   "source": [
    "from google.cloud import bigquery\n",
    "import datetime as dt\n",
    "import pandas as pd"
   ]
  },
  {
   "cell_type": "code",
   "execution_count": null,
   "id": "aabb68fe",
   "metadata": {},
   "outputs": [],
   "source": []
  },
  {
   "cell_type": "markdown",
   "id": "a68a8e2e",
   "metadata": {},
   "source": [
    "### LEER TABLA EXCEL DE PARÁMETROS Y SUBIRSE A BIGQUERY \n",
    "(en prod se va actualizando la tabla de bq con una cf)"
   ]
  },
  {
   "cell_type": "code",
   "execution_count": null,
   "id": "f5019c9e-a137-4d01-9d83-540a77ae0982",
   "metadata": {},
   "outputs": [],
   "source": [
    "import os\n",
    "from dotenv import load_dotenv, find_dotenv # package used in jupyter notebook to read the variables in file .env\n",
    "\n",
    "\"\"\" get env variable from .env \"\"\"\n",
    "load_dotenv(find_dotenv())\n",
    "\n",
    "\"\"\" Read env variables \"\"\"\n",
    "env_var_project_gcp = os.environ.get(\"PROJECT_GCP\", \"\")\n",
    "\n",
    "# SET SERVICE ACCOUNT GCP AND PROJECT\n",
    "PROJECT_ID = env_var_project_gcp"
   ]
  },
  {
   "cell_type": "code",
   "execution_count": null,
   "id": "f12b02de",
   "metadata": {},
   "outputs": [],
   "source": [
    "# parámetros tabla bigquery\n",
    "PROJECT_ID_DS = PROJECT_ID\n",
    "DATASET_ID_DS = '6_hello_world_refresh_observer'\n",
    "name_table_bq = '_param_tracking_update'"
   ]
  },
  {
   "cell_type": "code",
   "execution_count": null,
   "id": "e18e67fb",
   "metadata": {},
   "outputs": [],
   "source": [
    "# leer excel\n",
    "path_data_local = 'tracking_update.xlsx'\n",
    "data = pd.read_excel(path_data_local)\n",
    "data"
   ]
  },
  {
   "cell_type": "code",
   "execution_count": null,
   "id": "0fc87889",
   "metadata": {},
   "outputs": [],
   "source": []
  },
  {
   "cell_type": "code",
   "execution_count": null,
   "id": "0196b905",
   "metadata": {},
   "outputs": [],
   "source": [
    "# modificar fecha por en el codigo\n",
    "data['ultima_actualizacion'] = '2023-01-07 17:00:00'"
   ]
  },
  {
   "cell_type": "code",
   "execution_count": null,
   "id": "2f9d18af",
   "metadata": {},
   "outputs": [],
   "source": []
  },
  {
   "cell_type": "code",
   "execution_count": null,
   "id": "b64a4d5b",
   "metadata": {},
   "outputs": [],
   "source": [
    "# subir dataframe a bigquery - replace tabla existente\n",
    "data.to_gbq(destination_table = DATASET_ID_DS + '.' + name_table_bq,\n",
    "            project_id = PROJECT_ID_DS, \n",
    "            if_exists = 'replace'\n",
    "           )"
   ]
  },
  {
   "cell_type": "code",
   "execution_count": null,
   "id": "0d9e306e",
   "metadata": {},
   "outputs": [],
   "source": []
  },
  {
   "cell_type": "code",
   "execution_count": null,
   "id": "ff6be48d",
   "metadata": {},
   "outputs": [],
   "source": []
  },
  {
   "cell_type": "code",
   "execution_count": null,
   "id": "3fec9a78",
   "metadata": {},
   "outputs": [],
   "source": []
  },
  {
   "cell_type": "code",
   "execution_count": null,
   "id": "192bd098",
   "metadata": {},
   "outputs": [],
   "source": []
  }
 ],
 "metadata": {
  "kernelspec": {
   "display_name": "Python 3 (ipykernel)",
   "language": "python",
   "name": "python3"
  },
  "language_info": {
   "codemirror_mode": {
    "name": "ipython",
    "version": 3
   },
   "file_extension": ".py",
   "mimetype": "text/x-python",
   "name": "python",
   "nbconvert_exporter": "python",
   "pygments_lexer": "ipython3",
   "version": "3.10.14"
  }
 },
 "nbformat": 4,
 "nbformat_minor": 5
}
