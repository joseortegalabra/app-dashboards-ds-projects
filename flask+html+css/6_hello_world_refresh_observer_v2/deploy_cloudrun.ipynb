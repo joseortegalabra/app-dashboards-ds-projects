{
 "cells": [
  {
   "cell_type": "markdown",
   "id": "6e1ce3c5",
   "metadata": {},
   "source": [
    "## Upload artifact registry\n",
    "Estos códigos se podrían correr en la consola SDK de google, así como correrlos en un notebook.\n",
    "Para un data scientist poco especializado en prácticas de devops, utilizar un notebook es más inuitivo de utilizar\n",
    "\n",
    "##### Pasos previos\n",
    "- Pararse en la carpeta root de la app (crear este notebook en el root)\n",
    "- Tener creados scripts a contenizar y subirse a cloud run\n",
    "\n",
    "\n",
    "revisar este punto\n",
    "- Crear Dockerfile en el root (un ejemplo de Dockerfile se puede encontrar en: https://firebase.google.com/docs/hosting/cloud-run?hl=es-419#python)"
   ]
  },
  {
   "cell_type": "markdown",
   "id": "666f36e8",
   "metadata": {},
   "source": [
    "##### Estructura Notebook Deploy app web\n",
    "Existen dos métodos para hacer el deploy, almacenar la imagen docker en artifact registry (forma actual) y almacenar la imagen en container registry (forma antigua y cada vez más deprecated). En este Notebook por ser el primer y el de ejemplo se va a hacer el deploy de ambas formas primero en artifact registry y posteriormente en container registry"
   ]
  },
  {
   "cell_type": "code",
   "execution_count": null,
   "id": "837c5998",
   "metadata": {},
   "outputs": [],
   "source": []
  },
  {
   "cell_type": "code",
   "execution_count": null,
   "id": "646304fb",
   "metadata": {},
   "outputs": [],
   "source": []
  },
  {
   "cell_type": "markdown",
   "id": "0bf9ae26",
   "metadata": {},
   "source": [
    "## INICIALIZAR: SET PROYECT GCP\n",
    "\n",
    "**Para correr comando de consola en un jupyter notebook y que además se le puedan pasar variables del notebook al comando se debe utilizar el signo peso ($) y no utilizar el comando de asignación (=)**"
   ]
  },
  {
   "cell_type": "code",
   "execution_count": null,
   "id": "9bcfc7df",
   "metadata": {},
   "outputs": [],
   "source": [
    "import os\n",
    "from dotenv import load_dotenv, find_dotenv # package used in jupyter notebook to read the variables in file .env\n",
    "\n",
    "\"\"\" get env variable from .env \"\"\"\n",
    "load_dotenv(find_dotenv())\n",
    "\n",
    "\"\"\" Read env variables \"\"\"\n",
    "env_var_project_gcp = os.environ.get(\"PROJECT_GCP\", \"\")\n",
    "\n",
    "# SET SERVICE ACCOUNT GCP AND PROJECT\n",
    "PROJECT_ID = env_var_project_gcp"
   ]
  },
  {
   "cell_type": "code",
   "execution_count": null,
   "id": "0f6518dd",
   "metadata": {},
   "outputs": [],
   "source": [
    "# ! gcloud config set project $PROJECT_ID"
   ]
  },
  {
   "cell_type": "code",
   "execution_count": null,
   "id": "c7e91a05",
   "metadata": {},
   "outputs": [],
   "source": []
  },
  {
   "cell_type": "code",
   "execution_count": null,
   "id": "e0591b9d",
   "metadata": {},
   "outputs": [],
   "source": []
  },
  {
   "cell_type": "markdown",
   "id": "62e1c63e",
   "metadata": {},
   "source": [
    "## ------- ARTIFACT REGISTRY -------"
   ]
  },
  {
   "cell_type": "markdown",
   "id": "0fd2ce87",
   "metadata": {},
   "source": [
    "Artifact registry es el reemplazo de container registry y el recomendado por google. La única diferencia es que se guarda la imagen en este nuevo servicio y se necesita correr otros comando\n",
    "\n",
    "\n",
    "Además, cada vez que se sube una imagen nueva a artifact registry (volver a ejecutar el comando correspondiente de gcloud), esta recibe la etiqueta latest y es la que se utiliza para crear/actualizar la cloud run creada\n",
    "\n",
    "Subir la imagen a artifact Registry requiere más pasos que subirla a container registry\n",
    "\n",
    "Documentación integración cloud build con Artifact Registry: https://cloud.google.com/artifact-registry/docs/configure-cloud-build?hl=es-419"
   ]
  },
  {
   "cell_type": "code",
   "execution_count": null,
   "id": "eb1b6f98",
   "metadata": {},
   "outputs": [],
   "source": []
  },
  {
   "cell_type": "markdown",
   "id": "6c45b9db",
   "metadata": {},
   "source": [
    "### Paso 0: Parámetros"
   ]
  },
  {
   "cell_type": "code",
   "execution_count": null,
   "id": "03167e8a",
   "metadata": {},
   "outputs": [],
   "source": [
    "# PARÁMETROS \n",
    "\n",
    "# generales gcp\n",
    "REGION = 'us-east1'\n",
    "\n",
    "# nombre del repo\n",
    "NAME_REPO = 'repo-app-web-6-hello-world-refresh-event-observer-bq-v2'\n",
    "FORMAT_REPO = 'docker'\n",
    "DESCRIPTION_REPO = \"repo web app 6 hello world refresh event observer bq v2 socketio\"\n",
    "\n",
    "# nombre de la imagen\n",
    "NAME_IMAGE = '6-hello-world-refresh-event-observer-bq-v2'\n",
    "\n",
    "# nombre del cloud run que va a alojar la app web\n",
    "NAME_CLOUD_RUN = 'app-web-6-hello-world-refresh-event-observer-bq-v2'"
   ]
  },
  {
   "cell_type": "code",
   "execution_count": null,
   "id": "421fc138",
   "metadata": {},
   "outputs": [],
   "source": []
  },
  {
   "cell_type": "markdown",
   "id": "5526c44e",
   "metadata": {},
   "source": [
    "### Paso 1. Crear repositorio en artifact registry (si es que este no existe)\n",
    "A diferencia de container registry que era automática, en artifact registry hay que crearlo.\n",
    "\n",
    "En container registry solo se creaba una imagen y se almacenaban diferentes versiones de la imagen, por el contrario en artifact registry se crea un repo el cual puede tener múltiples imágenes y cada una tener diferentes versiones\n",
    "\n",
    "\n",
    "Documentación: crear repo en artifact registry: https://cloud.google.com/artifact-registry/docs/repositories/create-repos#gcloud"
   ]
  },
  {
   "cell_type": "code",
   "execution_count": null,
   "id": "ceae1f29",
   "metadata": {},
   "outputs": [],
   "source": [
    "# crear repo\n",
    "! gcloud artifacts repositories create $NAME_REPO \\\n",
    "--repository-format $FORMAT_REPO \\\n",
    "--location $REGION \\\n",
    "--description \"$DESCRIPTION_REPO\" \\\n",
    "--async"
   ]
  },
  {
   "cell_type": "code",
   "execution_count": null,
   "id": "d8ab2428",
   "metadata": {},
   "outputs": [],
   "source": []
  },
  {
   "cell_type": "markdown",
   "id": "b2f594f3",
   "metadata": {},
   "source": [
    "### Paso 2: Configurar una compilación de Docker\n",
    "\n",
    "Es necesario crear un **yaml** con la configuración para compilar la imagen docker en Artifact Registry.\n",
    "\n",
    "Tiene la siguiente forma\n",
    "\n",
    "<code>\n",
    "steps:\n",
    "- name: 'gcr.io/cloud-builders/docker'\n",
    "  args: [ 'build', '-t', '${_LOCATION}-docker.pkg.dev/$PROJECT_ID/${_REPOSITORY}/${_IMAGE}', '.' ]\n",
    "images:\n",
    "- '${_LOCATION}-docker.pkg.dev/$PROJECT_ID/${_REPOSITORY}/${_IMAGE}'\n",
    "<code>\n",
    "    \n",
    "\n",
    "**Este un ARCHIVO GENÉRICO que se puede reciclar porque está parametrizado para funcionar con cualquier repo docker en artifact registry** "
   ]
  },
  {
   "cell_type": "markdown",
   "id": "3f13b0ae",
   "metadata": {},
   "source": [
    "--> Corriendo la siguiente línea de código se crea un archivo yaml con la configuración deseada. \n",
    "\n",
    "Documentación: https://stackabuse.com/reading-and-writing-yaml-to-a-file-in-python/"
   ]
  },
  {
   "cell_type": "code",
   "execution_count": null,
   "id": "e8516214",
   "metadata": {},
   "outputs": [],
   "source": [
    "import yaml"
   ]
  },
  {
   "cell_type": "code",
   "execution_count": null,
   "id": "98471485",
   "metadata": {},
   "outputs": [],
   "source": [
    "# crear diccionario python con el contenido del yaml cloudbuild genérico\n",
    "\n",
    "dict_python_yaml_cloudbuild = {'steps': [{'name': 'gcr.io/cloud-builders/docker',\n",
    "   'args': ['build', '-t', '${_LOCATION}-docker.pkg.dev/$PROJECT_ID/${_REPOSITORY}/${_IMAGE}', '.']}],\n",
    " 'images': ['${_LOCATION}-docker.pkg.dev/$PROJECT_ID/${_REPOSITORY}/${_IMAGE}']}"
   ]
  },
  {
   "cell_type": "code",
   "execution_count": null,
   "id": "0cf1a369",
   "metadata": {},
   "outputs": [],
   "source": [
    "# guardar diccionario en formato yaml\n",
    "\n",
    "with open(r'cloudbuild.yaml', 'w') as file:\n",
    "    documents = yaml.dump(dict_python_yaml_cloudbuild, file)"
   ]
  },
  {
   "cell_type": "code",
   "execution_count": null,
   "id": "a72e475e",
   "metadata": {},
   "outputs": [],
   "source": []
  },
  {
   "cell_type": "markdown",
   "id": "1b267e53",
   "metadata": {},
   "source": [
    "### Paso 3. Crear Dockerfile\n",
    "\n",
    "Igual que el paso anterior, se necesita crear en este caso, el Dockerfile para poder subir la imagen al Artifact Registry. Por lo general, el dockerfile, se crea de forma manual.\n",
    "\n",
    "En este ejemplo, se define el contenido del dockerfile dentro de un string lo que permite que en un futuro se pueda cambiar vía código por ejemplo:\n",
    "- versión de python\n",
    "- Listado de archivos que van a formar parte de la imagen\n",
    "- Librerías que necesita la imagen para funcionar\n",
    "\n",
    "Por lo general, la mayoría de las veces, el Dockerfile no necesita ser modificado salvo que se desee cambiar la versión de python o que se requiera agregar nuevas librerías en el desarrollo. Por lo que corriendo el sgte código se obtiene el Dockerfile de la app web\n",
    "\n",
    "https://prnt.sc/uwBOFChK8QU8"
   ]
  },
  {
   "cell_type": "code",
   "execution_count": null,
   "id": "ed0e2f4d",
   "metadata": {},
   "outputs": [],
   "source": [
    "# crear string que representa al dockerfile\n",
    "\n",
    "string_dockerfile = '''FROM python:3.7.5-slim-buster\n",
    "ENV PYTHONUNBUFFERED True\n",
    "\n",
    "# Copy local code to the container image.\n",
    "ENV APP_HOME /app\n",
    "WORKDIR $APP_HOME\n",
    "COPY . ./\n",
    "\n",
    "# Install production dependencies.\n",
    "RUN pip install Flask gunicorn pandas numpy plotly google-cloud-bigquery db-dtypes Flask-Caching python-socketio==5.3.0\n",
    "\n",
    "CMD exec gunicorn --bind :$PORT --workers 1 --threads 8 --timeout 0 app:app\n",
    "'''"
   ]
  },
  {
   "cell_type": "code",
   "execution_count": null,
   "id": "edc57cc1",
   "metadata": {},
   "outputs": [],
   "source": [
    "# guardar dockerfile\n",
    "with open('Dockerfile', 'w') as file:\n",
    "    file.write(string_dockerfile)"
   ]
  },
  {
   "cell_type": "code",
   "execution_count": null,
   "id": "c63b43e1",
   "metadata": {},
   "outputs": [],
   "source": []
  },
  {
   "cell_type": "code",
   "execution_count": null,
   "id": "15903a17",
   "metadata": {},
   "outputs": [],
   "source": []
  },
  {
   "cell_type": "markdown",
   "id": "ba335ac5",
   "metadata": {},
   "source": [
    "### Paso 4: Contenerizar (imagen docker) códigos app web utlizando cloud build y subirlas a artifact registry\n",
    "- En este paso se crea una imagen docker con los códigos necesarios para la app web y posterior se procede a subir dicha imagen a Artifact Registry (utilizando como base el archivo \"cloudbuild.yaml\" que llama al \"Dockerfile\", creados en los pasos anteriores)"
   ]
  },
  {
   "cell_type": "code",
   "execution_count": null,
   "id": "1f993074",
   "metadata": {},
   "outputs": [],
   "source": [
    "# OJO: Los nombres de las variables en el comando gcloud corresponden a las variables definidas en el archivo de configuración \n",
    "# yaml\n",
    "\n",
    "# OJO2: para pasar el nombre de las variables (al igual que siempre) se debe de utilizar el signo dolar \"$\" pero debe\n",
    "# de estar entre comillas (para que se entienda que es la variable a reemplazar en el yaml de configuración)\n",
    "\n",
    "# OJO3: debe ser comillas dobles y sin espacios para no tener problemas\n",
    "\n",
    "! gcloud builds submit \\\n",
    "    --config=cloudbuild.yaml \\\n",
    "    --substitutions=_LOCATION=\"$REGION\",_REPOSITORY=\"$NAME_REPO\",_IMAGE=\"$NAME_IMAGE\" ."
   ]
  },
  {
   "cell_type": "code",
   "execution_count": null,
   "id": "7009598b",
   "metadata": {},
   "outputs": [],
   "source": []
  },
  {
   "cell_type": "markdown",
   "id": "28fba7d5",
   "metadata": {},
   "source": [
    "### Paso 5:  Deploy de la imagen del contenedor de artifact registry en cloud run\n",
    "Se debe de correr el comando gloud run deploy (igual que en el container registry) con la única diferencia en que cambia la ubicación de la imagen la cual es:\n",
    "\n",
    " {LOCATION}-docker.pkg.dev/{PROJECT}/{REPOSITORY}/{IMAGE}/\n",
    " \n",
    " \n",
    "\n",
    "**IMPORTANTE: POR PROBLEMAS DE PERMISOS, EL CLOUD RUN ESTÁ CONFIGURADO PARA QUE CUALQUIERA CON EL LINK PUEDA ACCEDER**"
   ]
  },
  {
   "cell_type": "markdown",
   "id": "67602265",
   "metadata": {},
   "source": [
    "#### Importante: está hardcodeado el timeout y la memoria"
   ]
  },
  {
   "cell_type": "code",
   "execution_count": null,
   "id": "40f4016e",
   "metadata": {},
   "outputs": [],
   "source": [
    "! gcloud run deploy $NAME_CLOUD_RUN \\\n",
    "    --image $REGION-docker.pkg.dev/$PROJECT_ID/$NAME_REPO/$NAME_IMAGE \\\n",
    "    --region $REGION \\\n",
    "    --timeout=1000 \\\n",
    "    --memory 512Mi \\\n",
    "    --set-env-vars=PROJECT_GCP=$env_var_project_gcp \\\n",
    "    --allow-unauthenticated"
   ]
  },
  {
   "cell_type": "code",
   "execution_count": null,
   "id": "d5885bc8",
   "metadata": {
    "scrolled": true
   },
   "outputs": [],
   "source": [
    "# memory gigas\n",
    "\n",
    "###--memory 1Gi \\"
   ]
  },
  {
   "cell_type": "code",
   "execution_count": null,
   "id": "de671b7e",
   "metadata": {},
   "outputs": [],
   "source": []
  },
  {
   "cell_type": "code",
   "execution_count": null,
   "id": "05989684",
   "metadata": {},
   "outputs": [],
   "source": []
  },
  {
   "cell_type": "code",
   "execution_count": null,
   "id": "8539812c",
   "metadata": {},
   "outputs": [],
   "source": []
  }
 ],
 "metadata": {
  "kernelspec": {
   "display_name": "Python 3 (ipykernel)",
   "language": "python",
   "name": "python3"
  },
  "language_info": {
   "codemirror_mode": {
    "name": "ipython",
    "version": 3
   },
   "file_extension": ".py",
   "mimetype": "text/x-python",
   "name": "python",
   "nbconvert_exporter": "python",
   "pygments_lexer": "ipython3",
   "version": "3.10.14"
  }
 },
 "nbformat": 4,
 "nbformat_minor": 5
}
